{
 "cells": [
  {
   "cell_type": "markdown",
   "metadata": {
    "collapsed": true
   },
   "source": [
    "### Apenas um teste"
   ]
  },
  {
   "cell_type": "markdown",
   "metadata": {},
   "source": [
    "## Regressão linear"
   ]
  },
  {
   "cell_type": "code",
   "execution_count": 6,
   "metadata": {},
   "outputs": [
    {
     "name": "stdout",
     "output_type": "stream",
     "text": [
      "[8.86342983]\n",
      "8\n"
     ]
    }
   ],
   "source": [
    "from sklearn import linear_model, datasets\n",
    "\n",
    "#digit dataset from sklearn\n",
    "digits = datasets.load_digits()\n",
    "\n",
    "#create the LinearRegression model\n",
    "clf = linear_model.LinearRegression()\n",
    "\n",
    "#set training set\n",
    "x, y = digits.data[:-1], digits.target[:-1]\n",
    "\n",
    "#train model\n",
    "clf.fit(x, y)\n",
    "\n",
    "#predict\n",
    "y_pred = clf.predict([digits.data[-1]])\n",
    "y_true = digits.target[-1]\n",
    "\n",
    "print(y_pred)\n",
    "print(y_true)"
   ]
  },
  {
   "cell_type": "markdown",
   "metadata": {},
   "source": [
    "## SVM (Support Vector Machine)"
   ]
  },
  {
   "cell_type": "code",
   "execution_count": 7,
   "metadata": {},
   "outputs": [
    {
     "name": "stdout",
     "output_type": "stream",
     "text": [
      "[8]\n",
      "8\n"
     ]
    }
   ],
   "source": [
    "from sklearn import svm, datasets\n",
    "\n",
    "#digit dataset from sklearn\n",
    "digits = datasets.load_digits()\n",
    "\n",
    "#create the  Support Vector Classifier\n",
    "clf = svm.SVC(gamma = 0.001, C = 100)\n",
    "\n",
    "#set training set\n",
    "x, y = digits.data[:-1], digits.target[:-1]\n",
    "\n",
    "#train model\n",
    "clf.fit(x, y)\n",
    "\n",
    "#predict\n",
    "y_pred = clf.predict([digits.data[-1]])\n",
    "y_true = digits.target[-1]\n",
    "\n",
    "print(y_pred)\n",
    "print(y_true)\n"
   ]
  },
  {
   "cell_type": "markdown",
   "metadata": {},
   "source": [
    "## KNN (K-vizinhos mais próximos)"
   ]
  },
  {
   "cell_type": "code",
   "execution_count": 8,
   "metadata": {},
   "outputs": [
    {
     "name": "stdout",
     "output_type": "stream",
     "text": [
      "[8]\n",
      "8\n"
     ]
    }
   ],
   "source": [
    "from sklearn import datasets\n",
    "from sklearn.neighbors import KNeighborsClassifier\n",
    "\n",
    "#digit dataset from sklearn\n",
    "digits = datasets.load_digits()\n",
    "\n",
    "#create the  KNeighborsClassifier\n",
    "clf = KNeighborsClassifier(n_neighbors=6)\n",
    "\n",
    "#set training set\n",
    "x, y = digits.data[:-1], digits.target[:-1]\n",
    "\n",
    "#train model\n",
    "clf.fit(x, y)\n",
    "\n",
    "#predict\n",
    "y_pred = clf.predict([digits.data[-1]])\n",
    "y_true = digits.target[-1]\n",
    "\n",
    "print(y_pred)\n",
    "print(y_true)"
   ]
  },
  {
   "cell_type": "code",
   "execution_count": null,
   "metadata": {},
   "outputs": [],
   "source": []
  }
 ],
 "metadata": {
  "kernelspec": {
   "display_name": "Python 3",
   "language": "python",
   "name": "python3"
  },
  "language_info": {
   "codemirror_mode": {
    "name": "ipython",
    "version": 3
   },
   "file_extension": ".py",
   "mimetype": "text/x-python",
   "name": "python",
   "nbconvert_exporter": "python",
   "pygments_lexer": "ipython3",
   "version": "3.7.1"
  }
 },
 "nbformat": 4,
 "nbformat_minor": 1
}
